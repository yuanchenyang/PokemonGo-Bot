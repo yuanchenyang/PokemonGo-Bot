{
 "cells": [
  {
   "cell_type": "code",
   "execution_count": 1,
   "metadata": {
    "collapsed": false,
    "tags": [
     "worksheet-0"
    ]
   },
   "outputs": [],
   "source": [
    "%load_ext autoreload\n",
    "%autoreload 2\n",
    "\n",
    "import json\n",
    "import pprint\n",
    "\n",
    "from pgoapi import PGoApi\n",
    "from pgoapi.utilities import f2i\n",
    "from stepper import Stepper, _get_cellid\n",
    "from geopy.geocoders import GoogleV3\n",
    "\n",
    "config = json.load(open('config.json'))"
   ]
  },
  {
   "cell_type": "code",
   "execution_count": 2,
   "metadata": {
    "collapsed": false,
    "tags": [
     "worksheet-0"
    ]
   },
   "outputs": [],
   "source": [
    "import random \n",
    "METER_TO_DEG = 1. / (60 * 1852)\n",
    "\n",
    "def fuzz(pos, tolerance=10):\n",
    "    lat, lon, alt = pos\n",
    "    n0 = random.normalvariate(0, tolerance * METER_TO_DEG) \n",
    "    n1 = random.normalvariate(0, tolerance * METER_TO_DEG)\n",
    "    return lat + n0, lon + n1, alt"
   ]
  },
  {
   "cell_type": "code",
   "execution_count": 3,
   "metadata": {
    "collapsed": false,
    "tags": [
     "worksheet-0"
    ]
   },
   "outputs": [],
   "source": [
    "geolocator = GoogleV3(api_key=config['gmapkey'])\n",
    "loc = geolocator.geocode(config['location'])\n",
    "pos = loc.latitude, loc.longitude, loc.altitude"
   ]
  },
  {
   "cell_type": "code",
   "execution_count": 4,
   "metadata": {
    "collapsed": false,
    "tags": [
     "worksheet-0"
    ]
   },
   "outputs": [
    {
     "data": {
      "text/plain": [
       "{'api_url': u'pgorelease.nianticlabs.com/plfe/10',\n 'auth_ticket': {'end': 'AWGtvohh4ZRL5rhVN9MHUg==\\n',\n  'expire_timestamp_ms': 1469233053884L,\n  'start': 'a5noqN9pBoVSAgn6njvQOgY0H79moPv7au3kfUuP57rrWZpsPIC+gsuL8kKwBsN1tvT5nx+aw+xw\\nf7IHgLp8fQ==\\n'},\n 'direction': 2,\n 'responses': {'GET_PLAYER': {'profile': {'avatar': {},\n    'creation_time': 1469076398123L,\n    'currency': [{'type': u'POKECOIN'},\n     {'amount': 15300, 'type': u'STARDUST'}],\n    'daily_bonus': {},\n    'item_storage': 350,\n    'poke_storage': 250,\n    'tutorial': 'AAEDBAc=\\n',\n    'unknown12': '',\n    'unknown13': '',\n    'username': u'Seer1025'},\n   'unknown1': 1}},\n 'unknown2': 8145806132888207460L}"
      ]
     },
     "execution_count": 4,
     "metadata": {},
     "output_type": "execute_result"
    }
   ],
   "source": [
    "api = PGoApi()\n",
    "api.set_position(*fuzz(pos))\n",
    "api.login(config['auth_service'], config['username'], config['password'])\n",
    "api.get_player()\n",
    "api.call()"
   ]
  },
  {
   "cell_type": "code",
   "execution_count": null,
   "metadata": {
    "collapsed": false,
    "tags": [
     "worksheet-0"
    ]
   },
   "outputs": [],
   "source": [
    "timestamp = \"\\000\" * 21\n",
    "cellid = _get_cellid(*pos[:2])\n",
    "api.get_map_objects(latitude=f2i(pos[0]),\n",
    "                    longitude=f2i(pos[1]),\n",
    "                    since_timestamp_ms=timestamp,\n",
    "                    cell_id=cellid)\n",
    "api.call()"
   ]
  },
  {
   "cell_type": "code",
   "execution_count": null,
   "metadata": {
    "collapsed": false,
    "tags": [
     "worksheet-0"
    ]
   },
   "outputs": [],
   "source": [
    "api.get_inventory()\n",
    "res = api.call()"
   ]
  },
  {
   "cell_type": "code",
   "execution_count": 18,
   "metadata": {
    "collapsed": false,
    "tags": [
     "worksheet-0"
    ]
   },
   "outputs": [],
   "source": [
    "pokemons = [item['inventory_item_data']['pokemon']\n",
    "            for item in res['responses']['GET_INVENTORY']['inventory_delta']['inventory_items']\n",
    "            if 'pokemon'    in item['inventory_item_data'] and\n",
    "               'is_egg' not in item['inventory_item_data']['pokemon']]\n"
   ]
  },
  {
   "cell_type": "code",
   "execution_count": 43,
   "metadata": {
    "collapsed": false,
    "tags": [
     "worksheet-0"
    ]
   },
   "outputs": [
    {
     "data": {
      "text/plain": [
       "[13482145766303099175L,\n 16719760576883640229L,\n 5720383337322283645L,\n 14643652224305950755L,\n 10080236136470070615L,\n 12486898399445972262L]"
      ]
     },
     "execution_count": 43,
     "metadata": {},
     "output_type": "execute_result"
    }
   ],
   "source": [
    "k = 1\n",
    "to_transfer = []\n",
    "for pid, group in groupby(pokemons, lambda x: x['pokemon_id']):\n",
    "    g = list(group)\n",
    "    if len(g) > k:\n",
    "        for obj in sorted(g, key=lambda x: x['cp'], reverse=True)[:k]:\n",
    "            to_transfer.append(obj['id'])\n",
    "to_transfer"
   ]
  },
  {
   "cell_type": "code",
   "execution_count": 34,
   "metadata": {
    "collapsed": false,
    "tags": [
     "worksheet-0"
    ]
   },
   "outputs": [
    {
     "name": "stdout",
     "output_type": "stream",
     "text": [
      "2\n",
      "2\n",
      "2\n",
      "2\n",
      "2\n",
      "2\n"
     ]
    }
   ],
   "source": [
    "from itertools import groupby\n",
    "for pid, group in groupby(pokemons, lambda x: x['pokemon_id']):\n",
    "    g = list(group)\n",
    "    \n",
    "        print len(g)"
   ]
  }
 ],
 "metadata": {
  "kernelspec": {
   "display_name": "Python 2",
   "language": "python2",
   "name": "python2"
  },
  "language_info": {
   "codemirror_mode": {
    "name": "ipython",
    "version": 2
   },
   "file_extension": ".py",
   "mimetype": "text/x-python",
   "name": "python",
   "nbconvert_exporter": "python",
   "pygments_lexer": "ipython2",
   "version": "2.7.12"
  },
  "name": "Sandbox.ipynb"
 },
 "nbformat": 4,
 "nbformat_minor": 0
}
