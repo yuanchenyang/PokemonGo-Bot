{
 "cells": [
  {
   "cell_type": "code",
   "execution_count": 45,
   "metadata": {
    "collapsed": false,
    "tags": [
     "worksheet-0"
    ]
   },
   "outputs": [
    {
     "name": "stdout",
     "output_type": "stream",
     "text": [
      "The autoreload extension is already loaded. To reload it, use:\n",
      "  %reload_ext autoreload\n"
     ]
    }
   ],
   "source": [
    "%load_ext autoreload\n",
    "%autoreload 2\n",
    "\n",
    "import json\n",
    "import pprint\n",
    "\n",
    "from pgoapi import PGoApi\n",
    "from pgoapi.utilities import f2i\n",
    "from stepper import Stepper, _get_cellid\n",
    "from geopy.geocoders import GoogleV3\n",
    "from collections import defaultdict\n",
    "\n",
    "config = json.load(open('config.json'))"
   ]
  },
  {
   "cell_type": "code",
   "execution_count": 25,
   "metadata": {
    "collapsed": false,
    "tags": [
     "worksheet-0"
    ]
   },
   "outputs": [],
   "source": [
    "import random \n",
    "METER_TO_DEG = 1. / (60 * 1852)\n",
    "\n",
    "def fuzz(pos, tolerance=10):\n",
    "    lat, lon, alt = pos\n",
    "    n0 = random.normalvariate(0, tolerance * METER_TO_DEG) \n",
    "    n1 = random.normalvariate(0, tolerance * METER_TO_DEG)\n",
    "    return lat + n0, lon + n1, alt"
   ]
  },
  {
   "cell_type": "code",
   "execution_count": 26,
   "metadata": {
    "collapsed": false,
    "tags": [
     "worksheet-0"
    ]
   },
   "outputs": [],
   "source": [
    "geolocator = GoogleV3(api_key=config['gmapkey'])\n",
    "loc = geolocator.geocode(config['location'])\n",
    "pos = loc.latitude, loc.longitude, loc.altitude"
   ]
  },
  {
   "cell_type": "code",
   "execution_count": 27,
   "metadata": {
    "collapsed": false,
    "tags": [
     "worksheet-0"
    ]
   },
   "outputs": [
    {
     "data": {
      "text/plain": [
       "{'auth_ticket': {'end': 'Vcof1JC+qZGSkkOkLFwlpQ==\\n',\n  'expire_timestamp_ms': 1469255321401L,\n  'start': 'Z8onlZqHanh6u/sCyUO87gitM0RlKwydIpyQVHkQsEjNoX5DLdJfhFcQJ8tpn3DtMK9B6lsuAlEz\\nmP4iRh20tA==\\n'},\n 'direction': 1,\n 'responses': {'GET_PLAYER': {'profile': {'avatar': {},\n    'creation_time': 1469076398123L,\n    'currency': [{'type': u'POKECOIN'},\n     {'amount': 20000, 'type': u'STARDUST'}],\n    'daily_bonus': {},\n    'item_storage': 350,\n    'poke_storage': 250,\n    'tutorial': 'AAEDBAc=\\n',\n    'unknown12': '',\n    'unknown13': '',\n    'username': u'Seer1025'},\n   'unknown1': 1}},\n 'unknown2': 8145806132888207460L}"
      ]
     },
     "execution_count": 27,
     "metadata": {},
     "output_type": "execute_result"
    }
   ],
   "source": [
    "api = PGoApi()\n",
    "api.set_position(*fuzz(pos))\n",
    "api.login(config['auth_service'], config['username'], config['password'])\n",
    "api.get_player()\n",
    "api.call()"
   ]
  },
  {
   "cell_type": "code",
   "execution_count": null,
   "metadata": {
    "collapsed": false,
    "tags": [
     "worksheet-0"
    ]
   },
   "outputs": [],
   "source": [
    "timestamp = \"\\000\" * 21\n",
    "cellid = _get_cellid(*pos[:2])\n",
    "api.get_map_objects(latitude=f2i(pos[0]),\n",
    "                    longitude=f2i(pos[1]),\n",
    "                    since_timestamp_ms=timestamp,\n",
    "                    cell_id=cellid)\n",
    "api.call()"
   ]
  },
  {
   "cell_type": "code",
   "execution_count": 28,
   "metadata": {
    "collapsed": false,
    "tags": [
     "worksheet-0"
    ]
   },
   "outputs": [],
   "source": [
    "api.get_inventory()\n",
    "res = api.call()"
   ]
  },
  {
   "cell_type": "code",
   "execution_count": 29,
   "metadata": {
    "collapsed": false,
    "tags": [
     "worksheet-0"
    ]
   },
   "outputs": [],
   "source": [
    "pokemons = [item['inventory_item_data']['pokemon']\n",
    "            for item in res['responses']['GET_INVENTORY']['inventory_delta']['inventory_items']\n",
    "            if 'pokemon'    in item['inventory_item_data'] and\n",
    "               'is_egg' not in item['inventory_item_data']['pokemon']]\n"
   ]
  },
  {
   "cell_type": "code",
   "execution_count": 47,
   "metadata": {
    "collapsed": false,
    "tags": [
     "worksheet-0"
    ]
   },
   "outputs": [],
   "source": [
    "k = 2\n",
    "\n",
    "transfer_ids = []\n",
    "transfer_infos = []\n",
    "\n",
    "groups = defaultdict(list)\n",
    "for obj in pokemons:\n",
    "    groups[obj['pokemon_id']].append(obj)\n",
    "\n",
    "for id, group in groups.items():\n",
    "    if len(group) > k:\n",
    "        for obj in sorted(group, key=lambda x: x['cp'], reverse=True)[k:]:\n",
    "            transfer_ids.append(obj['id'])\n",
    "            transfer_infos.append((id, obj['cp']))"
   ]
  },
  {
   "cell_type": "code",
   "execution_count": 50,
   "metadata": {
    "collapsed": false,
    "tags": [
     "worksheet-0"
    ]
   },
   "outputs": [
    {
     "data": {
      "text/plain": [
       "[(133, 107),\n (133, 107),\n (16, 177),\n (16, 177),\n (21, 147),\n (21, 120),\n (41, 182),\n (41, 129),\n (46, 201),\n (46, 163),\n (48, 307),\n (48, 245),\n (54, 193),\n (54, 187),\n (72, 157),\n (72, 111),\n (77, 135),\n (77, 58),\n (92, 127),\n (92, 90),\n (102, 140),\n (102, 105),\n (19, 121),\n (19, 121)]"
      ]
     },
     "execution_count": 50,
     "metadata": {},
     "output_type": "execute_result"
    }
   ],
   "source": [
    "transfer_infos"
   ]
  },
  {
   "cell_type": "code",
   "execution_count": 52,
   "metadata": {
    "collapsed": false,
    "tags": [
     "worksheet-0"
    ]
   },
   "outputs": [
    {
     "data": {
      "text/plain": [
       "[(1, 95),\n (7, 186),\n (10, 51),\n (13, 58),\n (13, 68),\n (14, 78),\n (16, 42),\n (16, 58),\n (16, 59),\n (16, 59),\n (16, 91),\n (16, 99),\n (16, 112),\n (16, 113),\n (16, 117),\n (16, 119),\n (16, 124),\n (16, 142),\n (16, 161),\n (16, 177),\n (16, 177),\n (19, 50),\n (19, 51),\n (19, 52),\n (19, 52),\n (19, 53),\n (19, 54),\n (19, 62),\n (19, 64),\n (19, 66),\n (19, 67),\n (19, 69),\n (19, 71),\n (19, 121),\n (19, 121),\n (20, 57),\n (21, 60),\n (21, 77),\n (21, 100),\n (21, 120),\n (21, 147),\n (23, 52),\n (29, 150),\n (41, 59),\n (41, 59),\n (41, 61),\n (41, 68),\n (41, 87),\n (41, 111),\n (41, 116),\n (41, 121),\n (41, 127),\n (41, 129),\n (41, 182),\n (42, 81),\n (43, 169),\n (46, 142),\n (46, 163),\n (46, 201),\n (48, 160),\n (48, 245),\n (48, 307),\n (52, 73),\n (54, 69),\n (54, 74),\n (54, 100),\n (54, 127),\n (54, 154),\n (54, 158),\n (54, 187),\n (54, 193),\n (55, 162),\n (58, 321),\n (69, 219),\n (72, 55),\n (72, 55),\n (72, 111),\n (72, 157),\n (77, 57),\n (77, 58),\n (77, 135),\n (79, 106),\n (79, 144),\n (84, 120),\n (92, 86),\n (92, 90),\n (92, 127),\n (98, 52),\n (98, 116),\n (102, 73),\n (102, 105),\n (102, 140),\n (106, 171),\n (109, 246),\n (116, 157),\n (118, 63),\n (118, 94),\n (120, 110),\n (120, 164),\n (127, 275),\n (127, 526),\n (129, 56),\n (133, 45),\n (133, 78),\n (133, 101),\n (133, 107),\n (133, 107),\n (147, 115)]"
      ]
     },
     "execution_count": 52,
     "metadata": {},
     "output_type": "execute_result"
    }
   ],
   "source": [
    "sorted([(p['pokemon_id'], p['cp']) for p in pokemons])"
   ]
  }
 ],
 "metadata": {
  "kernelspec": {
   "display_name": "Python 2",
   "language": "python2",
   "name": "python2"
  },
  "language_info": {
   "codemirror_mode": {
    "name": "ipython",
    "version": 2
   },
   "file_extension": ".py",
   "mimetype": "text/x-python",
   "name": "python",
   "nbconvert_exporter": "python",
   "pygments_lexer": "ipython2",
   "version": "2.7.12"
  },
  "name": "Sandbox.ipynb"
 },
 "nbformat": 4,
 "nbformat_minor": 0
}
